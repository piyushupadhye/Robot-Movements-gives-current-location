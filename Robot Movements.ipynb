{
 "cells": [
  {
   "cell_type": "code",
   "execution_count": null,
   "id": "36632d49",
   "metadata": {},
   "outputs": [],
   "source": [
    "x,y=0,0\n",
    "while True:\n",
    "    cmd = input(\"Enter Command:\")\n",
    "    \n",
    "    if cmd==\"\":\n",
    "        break\n",
    "    \n",
    "    else:\n",
    "        step = cmd.split(\" \")\n",
    "        \n",
    "        if step[0]==\"UP\":\n",
    "            y=y+int(step[1])\n",
    "        elif step[0]==\"DOWN\":\n",
    "            y=y-int(step[1])\n",
    "        elif step[0]==\"RIGHT\":\n",
    "            x=x+int(step[1])\n",
    "        elif step[0]==\"LEFT\":\n",
    "            x=x-int(step[1]) \n",
    "        elif cmd==\"STOP\":\n",
    "            pass\n",
    "            print('Final Position:', x,y)"
   ]
  }
 ],
 "metadata": {
  "kernelspec": {
   "display_name": "Python 3 (ipykernel)",
   "language": "python",
   "name": "python3"
  },
  "language_info": {
   "codemirror_mode": {
    "name": "ipython",
    "version": 3
   },
   "file_extension": ".py",
   "mimetype": "text/x-python",
   "name": "python",
   "nbconvert_exporter": "python",
   "pygments_lexer": "ipython3",
   "version": "3.9.7"
  }
 },
 "nbformat": 4,
 "nbformat_minor": 5
}
